{
 "cells": [
  {
   "cell_type": "code",
   "execution_count": null,
   "id": "fcf6daf0",
   "metadata": {
    "slideshow": {
     "slide_type": "slide"
    }
   },
   "outputs": [],
   "source": [
    "from matplotlib import pyplot as plt\n",
    "from pandas import pandas as pd\n",
    "import numpy as np\n",
    "import warnings\n",
    "warnings.filterwarnings(\"ignore\")\n",
    "# plt.rcParams[\"figure.figsize\"] = (10,8)\n",
    "# plt.style.use(['science' , 'notebook', 'grid'])"
   ]
  },
  {
   "cell_type": "markdown",
   "id": "0feae578",
   "metadata": {},
   "source": [
    "## Introdução\n",
    "\n",
    "Nesse jupyter notebook estamos trabalhando com detecções de aglomerados simulados.\n",
    "Há uma tabela de aglomerados simulados que foram inseridos em um campo estelar, e outra tabela\n",
    "de detecções, onde já foi feito um match posicional entre os aglomerados simulados e os detectados.\n",
    "\n",
    "Nessa rodada foram simulados 66 aglomerados globulares com perfil de densidade exponencial,\n",
    "sendo que cada aglomerado está localizado no centro de um pixel do HealPix com nside=64,\n",
    "com a distância entre um aglomerado e outro ~1 grau e raio de meia luz de ~1 arcmin.\n",
    "\n",
    "Abaixo são lidas as informações a respeito apenas das detecções."
   ]
  },
  {
   "cell_type": "code",
   "execution_count": null,
   "id": "2f8570ad",
   "metadata": {},
   "outputs": [],
   "source": [
    "RA, DEC, wrad, DistDet_kpc, m_M_det, SNR, wave_peak, \\\n",
    "Dist2object_arcmin, hlr_times_3_arcmin, SNR_rank, \\\n",
    "Wave_r3, DistSimulation_kpc, m_M_simulation, M_m_Det_minus_Sim, \\\n",
    "SNR_est = np.loadtxt('detections.txt', usecols=(1,2,3,4,5,6,7,9,10,12,13,14,16,17,18), unpack=True)"
   ]
  },
  {
   "cell_type": "code",
   "execution_count": null,
   "id": "a28f9173",
   "metadata": {},
   "outputs": [],
   "source": [
    "Name, Class = np.loadtxt('detections.txt', usecols=(8, 11), dtype=str, unpack=True)"
   ]
  },
  {
   "cell_type": "code",
   "execution_count": null,
   "id": "96676069",
   "metadata": {},
   "outputs": [],
   "source": [
    "N, HPX64, N0_order = np.loadtxt('detections.txt', usecols=(0, 15, 19), dtype=int, unpack=True)"
   ]
  },
  {
   "cell_type": "markdown",
   "id": "f92b2c52",
   "metadata": {},
   "source": [
    "Abaixo é criada uma condicional onde os aglomerados deram match com os simulados (confirmados)\n",
    "e onde os aglomerados são apenas candidatos."
   ]
  },
  {
   "cell_type": "code",
   "execution_count": null,
   "id": "bc81be7d",
   "metadata": {},
   "outputs": [],
   "source": [
    "real_det = (Class == 'conf')\n",
    "false_positive = (Class == 'cand')"
   ]
  },
  {
   "cell_type": "markdown",
   "id": "bd8bc155",
   "metadata": {},
   "source": [
    "Abaixo podemos ver a distribuição no céu destes aglomerados detectados. Os que estão em\n",
    "azul são os aglomerados simulados, e aqueles em vermelho são os candidatos."
   ]
  },
  {
   "cell_type": "code",
   "execution_count": null,
   "id": "f4782019",
   "metadata": {
    "slideshow": {
     "slide_type": "slide"
    }
   },
   "outputs": [],
   "source": [
    "cm = plt.cm.get_cmap('inferno_r')\n",
    "plt.figure(figsize=(10, 6))\n",
    "sc = plt.scatter(RA, DEC, c= SNR, vmin=0, vmax=np.max(SNR),  s=SNR, cmap=cm, alpha=0.75)\n",
    "plt.colorbar(sc,label = 'SNR')\n",
    "plt.xlim(np.max(RA), np.min(RA))\n",
    "plt.xlabel('RA')\n",
    "plt.ylabel('DEC')\n",
    "plt.title('Spatial distribution of clusters detected by Gawa wrt SNR')"
   ]
  },
  {
   "cell_type": "markdown",
   "id": "3fcf093b",
   "metadata": {},
   "source": [
    "Podemos notar que todos os aglomerados detectados e verdadeiros (True Positives) tem alta razão sinal-ruído (SNR),\n",
    "enquanto que os com baixa SNR são falsos positivos (FP), sendo representados por círculos pequenos e azuis.\n",
    "\n",
    "Importante destacar neste caso que todos os aglomerados simulados foram detectados. Pode haver casos onde \n",
    "nem todos os aglomerados simulados são detectados. Nesse caso, o código deve ler os aglomerados \n",
    "simulados novamente para ver o quão completa a detecção está.\n",
    "\n",
    "## Pureza da distância de detecção\n",
    "\n",
    "Abaixo vamos calcular a pureza da detecção dada a distância detectada."
   ]
  },
  {
   "cell_type": "code",
   "execution_count": null,
   "id": "23663e29",
   "metadata": {
    "slideshow": {
     "slide_type": "slide"
    }
   },
   "outputs": [],
   "source": [
    "fig, (ax1, ax2) = plt.subplots(1, 2, figsize=(15, 6))\n",
    "fig.suptitle('Distance of detection (pureness)')\n",
    "\n",
    "A = ax1.hist(DistDet_kpc, bins=30, range=(np.min(DistDet_kpc), np.max(DistDet_kpc)), histtype='step', label='All detections')\n",
    "B = ax1.hist(DistDet_kpc[real_det], bins=30, range=(np.min(DistDet_kpc), np.max(DistDet_kpc)), histtype='step', label='True clusters')\n",
    "C = ax1.hist(DistDet_kpc[false_positive], bins=30, range=(np.min(DistDet_kpc), np.max(DistDet_kpc)), histtype='step', label='False Positive')\n",
    "pureness = B[0] / A[0]\n",
    "\n",
    "ax1.set_xlabel('Distance of detection (kpc)')\n",
    "ax1.set_ylabel('Number of clusters detected')\n",
    "ax1.legend()\n",
    "\n",
    "ax2.step(A[1][0:-1], np.nan_to_num(pureness))\n",
    "ax2.set_xlabel('Distance of detection (kpc)')\n",
    "ax2.set_ylabel('Pureness')\n",
    "ax2.set_ylim([0,1])\n",
    "ax2.legend()\n",
    "plt.show()"
   ]
  },
  {
   "cell_type": "code",
   "execution_count": null,
   "id": "d248f67f",
   "metadata": {},
   "outputs": [],
   "source": []
  },
  {
   "cell_type": "code",
   "execution_count": null,
   "id": "0036a4b8",
   "metadata": {},
   "outputs": [],
   "source": [
    "fig, (ax1, ax2) = plt.subplots(1, 2, figsize=(15, 6))\n",
    "fig.suptitle('Detection distance module (Pureness)')\n",
    "\n",
    "A = ax1.hist(m_M_det, bins=30, range=(np.min(m_M_det), np.max(m_M_det)), histtype='step', label='All detections')\n",
    "B = ax1.hist(m_M_det[real_det], bins=30, range=(np.min(m_M_det), np.max(m_M_det)), histtype='step', label='True clusters')\n",
    "C = ax1.hist(m_M_det[false_positive], bins=30, range=(np.min(m_M_det), np.max(m_M_det)), histtype='step', label='False Positive')\n",
    "pureness = B[0] / A[0]\n",
    "\n",
    "ax1.set_xlabel('Detection distance module')\n",
    "ax1.set_ylabel('Number of clusters detected')\n",
    "ax1.legend()\n",
    "\n",
    "ax2.step(A[1][0:-1], np.nan_to_num(pureness))\n",
    "ax2.set_xlabel('Distance modulus detected')\n",
    "ax2.set_ylabel('Pureness')\n",
    "ax2.set_ylim([0,1])\n",
    "ax2.legend()\n",
    "plt.show()\n",
    "\n"
   ]
  },
  {
   "cell_type": "code",
   "execution_count": null,
   "id": "114e7332",
   "metadata": {},
   "outputs": [],
   "source": [
    "fig, (ax1, ax2) = plt.subplots(1, 2, figsize=(15, 6))\n",
    "fig.suptitle('Signal-to-noise ratio (detection)')\n",
    "\n",
    "A = ax1.hist( SNR, bins=30, range=(np.min( SNR), np.max( SNR)), histtype='step', label='All detections')\n",
    "B = ax1.hist( SNR[real_det], bins=30, range=(np.min( SNR), np.max( SNR)), histtype='step', label='True clusters')\n",
    "C = ax1.hist( SNR[false_positive], bins=30, range=(np.min( SNR), np.max( SNR)), histtype='step', label='False Positive')\n",
    "pureness = B[0] / A[0]\n",
    "\n",
    "ax1.set_xlabel('Signal-to-noise ratio (detection)')\n",
    "ax1.set_ylabel('Number of clusters detected')\n",
    "ax1.legend()\n",
    "\n",
    "ax2.step(A[1][0:-1], np.nan_to_num(pureness))\n",
    "ax2.set_xlabel('Signal-to-noise ratio (detection)')\n",
    "ax2.set_ylabel('Pureness')\n",
    "ax2.set_ylim([0,1.2])\n",
    "# ax2.legend()\n",
    "plt.show()\n"
   ]
  },
  {
   "cell_type": "code",
   "execution_count": null,
   "id": "c964e22a",
   "metadata": {},
   "outputs": [],
   "source": [
    "fig, (ax1, ax2) = plt.subplots(1, 2, figsize=(15, 6))\n",
    "fig.suptitle('Detection wave peak')\n",
    "\n",
    "A = ax1.hist(wave_peak, bins=30, range=(np.min(wave_peak), np.max(wave_peak)), histtype='step', label='All detections')\n",
    "B = ax1.hist(wave_peak[real_det], bins=30, range=(np.min(wave_peak), np.max(wave_peak)), histtype='step', label='True clusters')\n",
    "C = ax1.hist(wave_peak[false_positive], bins=30, range=(np.min(wave_peak), np.max(wave_peak)), histtype='step', label='False Positive')\n",
    "pureness = B[0] / A[0]\n",
    "\n",
    "ax1.set_xlabel('Detection wave peak')\n",
    "ax1.set_ylabel('Number of clusters detected')\n",
    "ax1.legend()\n",
    "\n",
    "ax2.step(A[1][0:-1], np.nan_to_num(pureness))\n",
    "ax2.set_xlabel('Detection wave peak')\n",
    "ax2.set_ylabel('Pureness')\n",
    "ax2.set_ylim([0,1.2])\n",
    "# ax2.legend()\n",
    "plt.show()\n"
   ]
  },
  {
   "cell_type": "code",
   "execution_count": null,
   "id": "7457293d",
   "metadata": {},
   "outputs": [],
   "source": [
    "fig, (ax1, ax2) = plt.subplots(1, 2, figsize=(15, 6))\n",
    "fig.suptitle('detection information')\n",
    "\n",
    "A = ax1.hist(SNR_rank, bins=30, range=(np.min(SNR_rank), np.max(SNR_rank)), histtype='step', label='All detections')\n",
    "B = ax1.hist(SNR_rank[real_det], bins=30, range=(np.min(SNR_rank), np.max(SNR_rank)), histtype='step', label='True clusters')\n",
    "C = ax1.hist(SNR_rank[false_positive], bins=30, range=(np.min(SNR_rank), np.max(SNR_rank)), histtype='step', label='False Positive')\n",
    "pureness = B[0] / A[0]\n",
    "\n",
    "ax1.set_xlabel('SNR_rank')\n",
    "ax1.set_ylabel('Number of clusters detected')\n",
    "ax1.legend()\n",
    "\n",
    "ax2.step(A[1][0:-1], np.nan_to_num(pureness))\n",
    "ax2.set_xlabel('SNR_rank')\n",
    "ax2.set_ylabel('Pureness')\n",
    "ax2.set_ylim([0,1.2])\n",
    "# ax2.legend()\n",
    "plt.show()"
   ]
  },
  {
   "cell_type": "code",
   "execution_count": null,
   "id": "01879a8a",
   "metadata": {},
   "outputs": [],
   "source": [
    "fig, (ax1, ax2) = plt.subplots(1, 2, figsize=(15, 6))\n",
    "fig.suptitle('detection information')\n",
    "\n",
    "A = ax1.hist(Wave_r3, bins=30, range=(np.min(Wave_r3), np.max(Wave_r3)), histtype='step', label='All detections')\n",
    "B = ax1.hist(Wave_r3[real_det], bins=30, range=(np.min(Wave_r3), np.max(Wave_r3)), histtype='step', label='True clusters')\n",
    "C = ax1.hist(Wave_r3[false_positive], bins=30, range=(np.min(Wave_r3), np.max(Wave_r3)), histtype='step', label='False Positive')\n",
    "pureness = B[0] / A[0]\n",
    "\n",
    "ax1.set_xlabel('Wave r3')\n",
    "ax1.set_ylabel('Number of clusters detected')\n",
    "ax1.legend()\n",
    "\n",
    "ax2.step(A[1][0:-1], np.nan_to_num(pureness))\n",
    "ax2.set_xlabel('Wave_r3')\n",
    "ax2.set_ylabel('Pureness')\n",
    "ax2.set_ylim([0,1.2])\n",
    "ax2.legend()\n",
    "plt.show()"
   ]
  },
  {
   "cell_type": "code",
   "execution_count": null,
   "id": "e20c196b",
   "metadata": {},
   "outputs": [],
   "source": [
    "fig, (ax1, ax2) = plt.subplots(1, 2, figsize=(15, 6))\n",
    "fig.suptitle('Estimated SNR in the simulation')\n",
    "\n",
    "A = ax1.hist(SNR_est, bins=30, range=(np.min(SNR_est), np.max(SNR_est)), histtype='step', label='All detections')\n",
    "B = ax1.hist(SNR_est[real_det], bins=30, range=(np.min(SNR_est), np.max(SNR_est)), histtype='step', label='True clusters')\n",
    "C = ax1.hist(SNR_est[false_positive], bins=30, range=(np.min(SNR_est), np.max(SNR_est)), histtype='step', label='False Positive')\n",
    "pureness = B[0] / A[0]\n",
    "\n",
    "ax1.set_xlabel('Estimated SNR in the simulation')\n",
    "ax1.set_ylabel('Number of clusters detected')\n",
    "ax1.legend()\n",
    "\n",
    "ax2.step(A[1][0:-1], np.nan_to_num(pureness))\n",
    "ax2.set_xlabel('Estimated SNR in the simulation')\n",
    "ax2.set_ylabel('Pureness')\n",
    "ax2.set_ylim([0,1.2])\n",
    "ax2.legend()\n",
    "plt.show()"
   ]
  },
  {
   "cell_type": "code",
   "execution_count": null,
   "id": "ef2a4917",
   "metadata": {},
   "outputs": [],
   "source": [
    "# pd.read_csv('simulacao.txt', sep=',')"
   ]
  },
  {
   "cell_type": "code",
   "execution_count": null,
   "id": "5521a1f1",
   "metadata": {},
   "outputs": [],
   "source": [
    "Nstar, M_V, SNR, L, B, RA_pix, DEC_pix, r_exp, ellpa, mass, dist = np.loadtxt('simulations.txt', usecols=(2,3,4,5,6,7,8,9,10,11,12) , unpack=True)"
   ]
  },
  {
   "cell_type": "code",
   "execution_count": null,
   "id": "65565a0e",
   "metadata": {},
   "outputs": [],
   "source": [
    "N, ipix = np.loadtxt('simulations.txt', usecols=(0, 1), dtype=int, unpack=True)"
   ]
  },
  {
   "cell_type": "code",
   "execution_count": null,
   "id": "af48a4f1",
   "metadata": {},
   "outputs": [],
   "source": [
    "real_det = (Class == 'conf')\n",
    "false_positive = (Class == 'cand')"
   ]
  },
  {
   "cell_type": "code",
   "execution_count": null,
   "id": "c6632b05",
   "metadata": {},
   "outputs": [],
   "source": [
    "A = plt.hist(mass, bins=30, range=(np.min(mass), np.max(mass)), histtype='step', label='All detections')\n",
    "plt.xlabel('mass')\n",
    "plt.ylabel('Number of clusters detected')"
   ]
  },
  {
   "cell_type": "code",
   "execution_count": null,
   "id": "41328a03",
   "metadata": {},
   "outputs": [],
   "source": [
    "A = plt.hist(Nstar, bins=30, range=(np.min(Nstar), np.max(Nstar)), histtype='step', label='All detections')\n",
    "plt.xlabel('Distance of detection (kpc)')\n",
    "plt.ylabel('Number of clusters detected')"
   ]
  },
  {
   "cell_type": "code",
   "execution_count": null,
   "id": "0d5d3b87",
   "metadata": {},
   "outputs": [],
   "source": []
  }
 ],
 "metadata": {
  "kernelspec": {
   "display_name": "Python 3 (ipykernel)",
   "language": "python",
   "name": "python3"
  },
  "language_info": {
   "codemirror_mode": {
    "name": "ipython",
    "version": 3
   },
   "file_extension": ".py",
   "mimetype": "text/x-python",
   "name": "python",
   "nbconvert_exporter": "python",
   "pygments_lexer": "ipython3",
   "version": "3.9.7"
  }
 },
 "nbformat": 4,
 "nbformat_minor": 5
}
